{
 "cells": [
  {
   "cell_type": "markdown",
   "metadata": {},
   "source": [
    "# 1. Given a 256x256 image: (15%)"
   ]
  },
  {
   "cell_type": "markdown",
   "metadata": {},
   "source": [
    "* (a) Perform the Fourier transform, keeping only 1/4 largest coefficients, and perform inverse transform to obtain image A."
   ]
  },
  {
   "cell_type": "markdown",
   "metadata": {},
   "source": [
    "* (b) Divide the image into 256 16x16 blocks. Perform Fourier Transform on each block, keeping only 1/4 largest coefficients in each block, and take inverse transform to obtain image B."
   ]
  },
  {
   "cell_type": "markdown",
   "metadata": {},
   "source": [
    "* (c) Reduce the size of the original image to 128x128 by sub-sampling or averaging. Perform Fourier Transform on the 128x128 image. Zero-pad the coefficient matrix to a 256x256 array. Then perform inverse transform to obtain image C."
   ]
  },
  {
   "cell_type": "markdown",
   "metadata": {},
   "source": [
    "* Compute and compare the mean square error between (image, image A), (image, image B), and (image, image C):"
   ]
  },
  {
   "cell_type": "markdown",
   "metadata": {},
   "source": [
    "* $ MSE(f, g) = \\frac{1}{MN} \\sum_{i=0}^{M-1} \\sum_{j=0}^{N-1} (f(i,j)-g(i,j)) ^ 2 $"
   ]
  },
  {
   "cell_type": "markdown",
   "metadata": {},
   "source": [
    "# 2. Implement the adaptive medium filter and test with Figure 5.14 (a). (10%)"
   ]
  },
  {
   "cell_type": "markdown",
   "metadata": {},
   "source": [
    "# 3. Use the transfer function of a Butterworth high pass filter of order n to construct a homomorphic filter. Your filter must exhibit the characteristic shape shown below and must include the parameters shown in the figure. (5%)"
   ]
  },
  {
   "cell_type": "markdown",
   "metadata": {},
   "source": [
    "# 4. During acquisition, an image undergoes uniform linear motion in the vertical direction for a time interval T1. The direction of motion then switches to the horizontal direction for a time interval T2. Assuming that the time it takes for the camera to change direction is negligible, and the shutter opening closing times are also negligible, derive the expression for the blurring function H(u,v). (10%)"
   ]
  },
  {
   "cell_type": "markdown",
   "metadata": {},
   "source": [
    "# 5. Find the the Fourier transform of the following equation where $ r^2 = x^2 + y^2 $. (5%)"
   ]
  },
  {
   "cell_type": "markdown",
   "metadata": {},
   "source": [
    "* $ h(r) = \\frac{(r^2-\\sigma^2)}{\\sigma^4} e^{-\\frac{r^2}{2\\sigma^4}} $"
   ]
  },
  {
   "cell_type": "code",
   "execution_count": null,
   "metadata": {
    "collapsed": true
   },
   "outputs": [],
   "source": []
  }
 ],
 "metadata": {
  "kernelspec": {
   "display_name": "Python 3",
   "language": "python",
   "name": "python3"
  },
  "language_info": {
   "codemirror_mode": {
    "name": "ipython",
    "version": 3
   },
   "file_extension": ".py",
   "mimetype": "text/x-python",
   "name": "python",
   "nbconvert_exporter": "python",
   "pygments_lexer": "ipython3",
   "version": "3.5.4"
  }
 },
 "nbformat": 4,
 "nbformat_minor": 2
}
